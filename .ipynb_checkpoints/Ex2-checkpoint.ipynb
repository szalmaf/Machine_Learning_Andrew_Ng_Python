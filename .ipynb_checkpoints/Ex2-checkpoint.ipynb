{
 "cells": [
  {
   "cell_type": "code",
   "execution_count": 4,
   "metadata": {
    "collapsed": true
   },
   "outputs": [],
   "source": [
    "%matplotlib inline"
   ]
  },
  {
   "cell_type": "code",
   "execution_count": 8,
   "metadata": {
    "collapsed": true
   },
   "outputs": [],
   "source": [
    "import numpy as np\n",
    "import pandas as pd\n",
    "import matplotlib.pyplot as plt"
   ]
  },
  {
   "cell_type": "code",
   "execution_count": 58,
   "metadata": {
    "collapsed": false
   },
   "outputs": [
    {
     "data": {
      "text/plain": [
       "[<matplotlib.lines.Line2D at 0x112338eb8>]"
      ]
     },
     "execution_count": 58,
     "metadata": {},
     "output_type": "execute_result"
    },
    {
     "data": {
      "image/png": "[encoded data removed]",
      "text/plain": [
       "<matplotlib.figure.Figure at 0x112e63c50>"
      ]
     },
     "metadata": {},
     "output_type": "display_data"
    }
   ],
   "source": [
    "# Example showing that the log loss is convex while the mean square loss is wavy\n",
    "# for 2 data points in of a single predictor\n",
    "th = np.linspace(-10,10, num=100)\n",
    "x1=0.3\n",
    "x2=0.1\n",
    "y1=1\n",
    "y2=0\n",
    "h_theta1 = 1/(1+np.exp(-th * x1))\n",
    "h_theta2 = 1/(1+np.exp(-th * x2))\n",
    "J_logis = -(1/2) * (y1 * np.log(h_theta1) + (1-y2) * (np.log(1 - h_theta2)))\n",
    "J_square = (1/4) * ((h_theta1 - y)**2 + (h_theta2 - y)**2)\n",
    "plt.plot(th, J_logis) # convex, y=1\n",
    "plt.plot(th, J_square) # non-convex, y=1"
   ]
  },
  {
   "cell_type": "code",
   "execution_count": 62,
   "metadata": {
    "collapsed": true
   },
   "outputs": [],
   "source": [
    "def logLoss(pred, target):\n",
    "    nSample = np.size(target,0)\n",
    "    J = -(1/nSample) * (np.transpose(target) * np.log(pred) + np.transpose(1-target) * np.log(1-pred))\n",
    "    return J\n",
    "def predFn(X, weights):\n",
    "    z = X * weights\n",
    "    pred = 1/(1 + np.exp(-z))"
   ]
  },
  {
   "cell_type": "code",
   "execution_count": 61,
   "metadata": {
    "collapsed": true
   },
   "outputs": [],
   "source": [
    "def computeCost(X, target, weights, predFn, costFn):\n",
    "    \"\"\"\n",
    "    Inputs: X design matrix 2D matrix, target: dependent variables 1D vector, weights or theta: \n",
    "    Output:\n",
    "    \"\"\"\n",
    "    nSample = np.size(X,0) # sample size\n",
    "    pred = predFn(X, weights) # predictions based on given weights\n",
    "    eps = pred - target # residuals\n",
    "    error = costFn(pred, target)\n",
    "    return error, eps # cost/loss/error, residual vector"
   ]
  },
  {
   "cell_type": "code",
   "execution_count": null,
   "metadata": {
    "collapsed": true
   },
   "outputs": [],
   "source": [
    "def gradientDescent(X, Y, theta, alpha):\n",
    "    nSample = np.size(X,0) # sample size\n",
    "    error, eps = computeCost(X, Y, theta)\n",
    "    gradient = (1./nSample) * np.dot(np.transpose(X), eps)\n",
    "    weightUpdate = theta - alpha * np.transpose(gradient)\n",
    "    return weightUpdate, error"
   ]
  },
  {
   "cell_type": "code",
   "execution_count": null,
   "metadata": {
    "collapsed": true
   },
   "outputs": [],
   "source": [
    "def gradientDescentVis(X, Y, theta, alpha, cost, nIter):\n",
    "    for i in range(nIter):\n",
    "        theta, cost[i] = gradientDescent(X, Y, theta, alpha)\n",
    "    return cost"
   ]
  }
 ],
 "metadata": {
  "anaconda-cloud": {},
  "kernelspec": {
   "display_name": "Python [conda env:kaggle2017]",
   "language": "python",
   "name": "conda-env-kaggle2017-py"
  },
  "language_info": {
   "codemirror_mode": {
    "name": "ipython",
    "version": 3
   },
   "file_extension": ".py",
   "mimetype": "text/x-python",
   "name": "python",
   "nbconvert_exporter": "python",
   "pygments_lexer": "ipython3",
   "version": "3.5.2"
  }
 },
 "nbformat": 4,
 "nbformat_minor": 1
}
