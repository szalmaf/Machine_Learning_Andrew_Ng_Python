{
 "cells": [
  {
   "cell_type": "code",
   "execution_count": 126,
   "metadata": {
    "collapsed": false
   },
   "outputs": [],
   "source": [
    "%matplotlib inline"
   ]
  },
  {
   "cell_type": "code",
   "execution_count": null,
   "metadata": {
    "collapsed": true
   },
   "outputs": [],
   "source": []
  },
  {
   "cell_type": "code",
   "execution_count": 138,
   "metadata": {
    "collapsed": true
   },
   "outputs": [],
   "source": [
    "import numpy as np\n",
    "import matplotlib.pyplot as plt\n",
    "import pandas as pd"
   ]
  },
  {
   "cell_type": "code",
   "execution_count": 129,
   "metadata": {
    "collapsed": true
   },
   "outputs": [],
   "source": [
    "def computeCost(X, target, weights):\n",
    "    \"\"\"\n",
    "    Inputs: X design matrix 2D matrix, target: dependent variables 1D vector, weights or theta: \n",
    "    Output:\n",
    "    \"\"\"\n",
    "    nSample = np.size(X,0) # sample size\n",
    "    pred = np.dot(X, np.transpose(weights)) # predictions based on given weights\n",
    "    eps = pred - target # residuals\n",
    "    error = np.sum(np.power(eps,2.)) / (2. * nSample)\n",
    "    return error, eps # cost/loss/error, residual vector"
   ]
  },
  {
   "cell_type": "code",
   "execution_count": 130,
   "metadata": {
    "collapsed": true
   },
   "outputs": [],
   "source": [
    "def gradientDescent(X, Y, theta, alpha):\n",
    "    nSample = np.size(X,0) # sample size\n",
    "    error, eps = computeCost(X, Y, theta)\n",
    "    gradient = (1./nSample) * np.dot(np.transpose(X), eps)\n",
    "    weightUpdate = theta - alpha * np.transpose(gradient)\n",
    "    return weightUpdate, error"
   ]
  },
  {
   "cell_type": "code",
   "execution_count": 132,
   "metadata": {
    "collapsed": true
   },
   "outputs": [],
   "source": [
    "def gradientDescentVis(X, Y, theta, alpha, cost, nIter):\n",
    "    for i in range(nIter):\n",
    "        theta, cost[i] = gradientDescent(X, Y, theta, alpha)\n",
    "    return cost"
   ]
  },
  {
   "cell_type": "code",
   "execution_count": 131,
   "metadata": {
    "collapsed": false
   },
   "outputs": [
    {
     "data": {
      "text/plain": [
       "(11.945, matrix([[-6.5],\n",
       "         [-5.3],\n",
       "         [-4.1],\n",
       "         [-2.9]]))"
      ]
     },
     "execution_count": 131,
     "metadata": {},
     "output_type": "execute_result"
    }
   ],
   "source": [
    "X = np.matrix([[1, 2],[1, 3], [1,4], [1,5]])\n",
    "target = np.transpose(np.matrix([7,6,5,4]))\n",
    "weights = np.matrix([0.1,0.2])\n",
    "nIter = 100\n",
    "cost = np.zeros(nIter)\n",
    "computeCost(X, target, weights)"
   ]
  },
  {
   "cell_type": "code",
   "execution_count": 136,
   "metadata": {
    "collapsed": false
   },
   "outputs": [],
   "source": [
    "cost = gradientDescentVis(X, target,  weights, 0.01, cost, nIter)"
   ]
  },
  {
   "cell_type": "code",
   "execution_count": 145,
   "metadata": {
    "collapsed": false
   },
   "outputs": [
    {
     "data": {
      "text/plain": [
       "array([ 11.945     ,   9.66563644,   7.99439485,   6.76861069,\n",
       "         5.86913074,   5.20867424,   4.72330723,   4.36619755,\n",
       "         4.10304022,   3.90870653,   3.76478948,   3.65780577,\n",
       "         3.57787877,   3.51777376,   3.47219121,   3.43724921,\n",
       "         3.41010418,   3.3886732 ,   3.37143048,   3.35725839,\n",
       "         3.34533822,   3.33507028,   3.32601527,   3.31785141,\n",
       "         3.31034297,   3.30331728,   3.29664786,   3.29024205,\n",
       "         3.28403198,   3.27796791,   3.27201341,   3.26614181,\n",
       "         3.26033354,   3.25457428,   3.24885353,   3.24316358,\n",
       "         3.23749881,   3.23185506,   3.22622932,   3.22061934,\n",
       "         3.21502349,   3.20944057,   3.2038697 ,   3.19831022,\n",
       "         3.19276164,   3.18722361,   3.18169587,   3.1761782 ,\n",
       "         3.17067047,   3.16517256,   3.15968437,   3.15420584,\n",
       "         3.14873692,   3.14327756,   3.13782771,   3.13238736,\n",
       "         3.12695647,   3.12153501,   3.11612298,   3.11072034,\n",
       "         3.10532707,   3.09994316,   3.09456859,   3.08920334,\n",
       "         3.0838474 ,   3.07850074,   3.07316335,   3.06783522,\n",
       "         3.06251633,   3.05720666,   3.0519062 ,   3.04661492,\n",
       "         3.04133282,   3.03605988,   3.03079608,   3.02554141,\n",
       "         3.02029585,   3.01505938,   3.00983199,   3.00461366,\n",
       "         2.99940438,   2.99420414,   2.9890129 ,   2.98383067,\n",
       "         2.97865743,   2.97349315,   2.96833783,   2.96319144,\n",
       "         2.95805398,   2.95292542,   2.94780576,   2.94269497,\n",
       "         2.93759304,   2.93249996,   2.92741571,   2.92234027,\n",
       "         2.91727364,   2.91221578,   2.9071667 ,   2.90212637])"
      ]
     },
     "execution_count": 145,
     "metadata": {},
     "output_type": "execute_result"
    }
   ],
   "source": [
    "cost"
   ]
  },
  {
   "cell_type": "code",
   "execution_count": 137,
   "metadata": {
    "collapsed": false
   },
   "outputs": [
    {
     "data": {
      "text/plain": [
       "[<matplotlib.lines.Line2D at 0x10fdf4da0>]"
      ]
     },
     "execution_count": 137,
     "metadata": {},
     "output_type": "execute_result"
    },
    {
     "data": {
      "image/png": "[encoded data removed]",
      "text/plain": [
       "<matplotlib.figure.Figure at 0x10fc52b38>"
      ]
     },
     "metadata": {},
     "output_type": "display_data"
    }
   ],
   "source": [
    "plt.plot(cost)"
   ]
  },
  {
   "cell_type": "code",
   "execution_count": 140,
   "metadata": {
    "collapsed": false
   },
   "outputs": [],
   "source": [
    "costDF = pd.DataFrame(cost)"
   ]
  },
  {
   "cell_type": "code",
   "execution_count": 144,
   "metadata": {
    "collapsed": false
   },
   "outputs": [],
   "source": [
    "costDF.to_csv(\"linearFitCostFunctionByIteration.csv\", header=False)"
   ]
  },
  {
   "cell_type": "code",
   "execution_count": null,
   "metadata": {
    "collapsed": true
   },
   "outputs": [],
   "source": []
  }
 ],
 "metadata": {
  "anaconda-cloud": {},
  "kernelspec": {
   "display_name": "Python [conda env:kaggle2017]",
   "language": "python",
   "name": "conda-env-kaggle2017-py"
  },
  "language_info": {
   "codemirror_mode": {
    "name": "ipython",
    "version": 3
   },
   "file_extension": ".py",
   "mimetype": "text/x-python",
   "name": "python",
   "nbconvert_exporter": "python",
   "pygments_lexer": "ipython3",
   "version": "3.5.2"
  }
 },
 "nbformat": 4,
 "nbformat_minor": 1
}
