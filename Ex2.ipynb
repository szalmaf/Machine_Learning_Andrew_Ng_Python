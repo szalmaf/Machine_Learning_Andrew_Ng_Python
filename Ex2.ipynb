{
 "cells": [
  {
   "cell_type": "code",
   "execution_count": 1,
   "metadata": {
    "collapsed": true
   },
   "outputs": [],
   "source": [
    "%matplotlib inline"
   ]
  },
  {
   "cell_type": "code",
   "execution_count": 209,
   "metadata": {
    "collapsed": true
   },
   "outputs": [],
   "source": [
    "import numpy as np\n",
    "import pandas as pd\n",
    "import matplotlib.pyplot as plt\n",
    "import scipy.optimize as op"
   ]
  },
  {
   "cell_type": "code",
   "execution_count": 4,
   "metadata": {
    "collapsed": false
   },
   "outputs": [
    {
     "data": {
      "text/plain": [
       "[<matplotlib.lines.Line2D at 0x10e595438>]"
      ]
     },
     "execution_count": 4,
     "metadata": {},
     "output_type": "execute_result"
    },
    {
     "data": {
      "image/png": "[encoded data removed]",
      "text/plain": [
       "<matplotlib.figure.Figure at 0x10e595400>"
      ]
     },
     "metadata": {},
     "output_type": "display_data"
    }
   ],
   "source": [
    "# Example showing that the log loss is convex while the mean square loss is wavy\n",
    "# for 2 data points in of a single predictor\n",
    "th = np.linspace(-10,10, num=100)\n",
    "x1=0.3\n",
    "x2=0.1\n",
    "y1=1\n",
    "y2=0\n",
    "h_theta1 = 1/(1+np.exp(-th * x1))\n",
    "h_theta2 = 1/(1+np.exp(-th * x2))\n",
    "J_logis = -(1/2) * (y1 * np.log(h_theta1) + (1-y2) * (np.log(1 - h_theta2)))\n",
    "J_square = (1/4) * ((h_theta1 - y1)**2 + (h_theta2 - y2)**2)\n",
    "plt.plot(th, J_logis) # convex, y=1\n",
    "plt.plot(th, J_square) # non-convex, y=1"
   ]
  },
  {
   "cell_type": "code",
   "execution_count": 21,
   "metadata": {
    "collapsed": true
   },
   "outputs": [],
   "source": [
    "def sigmoid(x):\n",
    "    return 1/(1+np.exp(-1 * x))"
   ]
  },
  {
   "cell_type": "code",
   "execution_count": 192,
   "metadata": {
    "collapsed": true
   },
   "outputs": [],
   "source": [
    "def logLoss(pred, target):\n",
    "    nSample = np.size(target,0)\n",
    "    J = -(1/nSample) * (target.T.dot(np.log(pred+0.00001)) + (1-target).T.dot(np.log(1.000001-pred)))\n",
    "    return J, pred - target\n",
    "def predLogitFn(X, weights):\n",
    "    z = X.dot(weights)\n",
    "    pred = sigmoid(z)\n",
    "    return pred"
   ]
  },
  {
   "cell_type": "code",
   "execution_count": 193,
   "metadata": {
    "collapsed": true
   },
   "outputs": [],
   "source": [
    "def computeCost(X, target, weights, predFn, costFn):\n",
    "    \"\"\"\n",
    "    Inputs: X design matrix 2D matrix, target: dependent variables 1D vector, weights or theta: \n",
    "    Output:\n",
    "    \"\"\"\n",
    "    nSample = np.size(target,0) # sample size\n",
    "    pred = predFn(X, weights) # predictions based on given weights\n",
    "    eps = pred - target # residuals\n",
    "    error = costFn(pred, target)\n",
    "    return error, eps # cost/loss/error, residual vector"
   ]
  },
  {
   "cell_type": "code",
   "execution_count": 211,
   "metadata": {
    "collapsed": true
   },
   "outputs": [],
   "source": [
    "def gradientDescent(X, Y, theta, predFn, costFn):\n",
    "    nSample = np.size(X,0) # sample size\n",
    "    pred = predFn(X, theta)\n",
    "    error, eps = costFn(pred, Y)\n",
    "    gradient = (1./nSample) * X.T * eps\n",
    "    weightUpdate = gradient\n",
    "    return gradient, error"
   ]
  },
  {
   "cell_type": "code",
   "execution_count": 212,
   "metadata": {
    "collapsed": true
   },
   "outputs": [],
   "source": [
    "def gradientDescentVis(X, Y, theta, alpha, predFn, costFn, nIter):\n",
    "    cost = np.zeros(nIter)\n",
    "    for i in range(nIter):\n",
    "        grad, cost[i] = gradientDescent(X, Y, theta, predFn, costFn)\n",
    "        theta = theta - alpha * grad\n",
    "    return cost"
   ]
  },
  {
   "cell_type": "code",
   "execution_count": 213,
   "metadata": {
    "collapsed": false
   },
   "outputs": [],
   "source": [
    "def pred(X, weights):\n",
    "    p = sigmoid(X.dot(weights))\n",
    "    return np.matrix(p >= 0.5, dtype=float)"
   ]
  },
  {
   "cell_type": "code",
   "execution_count": 214,
   "metadata": {
    "collapsed": true
   },
   "outputs": [],
   "source": [
    "X = np.matrix([[1, 1], [1, 2.5], [1, 3], [1, 4]])\n",
    "theta = np.matrix([[-3.5], [1.3]])\n"
   ]
  },
  {
   "cell_type": "code",
   "execution_count": 215,
   "metadata": {
    "collapsed": false
   },
   "outputs": [],
   "source": [
    "m3 = np.matrix([[8.,     1.,     6.],\n",
    "     [3.,     5.,     7.],\n",
    "     [4.,     9.,     2.]])\n",
    "X = np.concatenate((np.ones((3,1)), m3), axis=1)\n",
    "Y = np.matrix([[1], [0], [1]])\n",
    "theta = np.matrix([-2, -1, 1, 2]).T"
   ]
  },
  {
   "cell_type": "code",
   "execution_count": 216,
   "metadata": {
    "collapsed": false
   },
   "outputs": [],
   "source": [
    "(a,b) = gradientDescent(X, Y, theta, predLogitFn, logLoss)"
   ]
  },
  {
   "cell_type": "code",
   "execution_count": 217,
   "metadata": {
    "collapsed": false
   },
   "outputs": [],
   "source": [
    "alpha, nIter = (0.01, 400)\n",
    "c = gradientDescentVis(X, Y, theta, alpha, predLogitFn, logLoss, nIter)"
   ]
  },
  {
   "cell_type": "code",
   "execution_count": 218,
   "metadata": {
    "collapsed": false
   },
   "outputs": [
    {
     "data": {
      "text/plain": [
       "[<matplotlib.lines.Line2D at 0x1164fc1d0>]"
      ]
     },
     "execution_count": 218,
     "metadata": {},
     "output_type": "execute_result"
    },
    {
     "data": {
      "image/png": "[encoded data removed]",
      "text/plain": [
       "<matplotlib.figure.Figure at 0x116425400>"
      ]
     },
     "metadata": {},
     "output_type": "display_data"
    }
   ],
   "source": [
    "plt.plot(c)"
   ]
  },
  {
   "cell_type": "code",
   "execution_count": 202,
   "metadata": {
    "collapsed": false
   },
   "outputs": [
    {
     "ename": "SyntaxError",
     "evalue": "invalid syntax (<ipython-input-202-b2c6f0cc9112>, line 1)",
     "output_type": "error",
     "traceback": [
      "\u001b[0;36m  File \u001b[0;32m\"<ipython-input-202-b2c6f0cc9112>\"\u001b[0;36m, line \u001b[0;32m1\u001b[0m\n\u001b[0;31m    (data[data[2]==0])[]\u001b[0m\n\u001b[0m                       ^\u001b[0m\n\u001b[0;31mSyntaxError\u001b[0m\u001b[0;31m:\u001b[0m invalid syntax\n"
     ]
    }
   ],
   "source": [
    "(data[data[2]==0])[]"
   ]
  },
  {
   "cell_type": "code",
   "execution_count": 203,
   "metadata": {
    "collapsed": false
   },
   "outputs": [],
   "source": [
    "data = pd.read_csv(\"data/ex2data1.txt\", header=None)"
   ]
  },
  {
   "cell_type": "code",
   "execution_count": 210,
   "metadata": {
    "collapsed": false
   },
   "outputs": [
    {
     "data": {
      "text/plain": [
       "<matplotlib.legend.Legend at 0x116483d30>"
      ]
     },
     "execution_count": 210,
     "metadata": {},
     "output_type": "execute_result"
    },
    {
     "data": {
      "image/png": "[encoded data removed]",
      "text/plain": [
       "<matplotlib.figure.Figure at 0x1164259b0>"
      ]
     },
     "metadata": {},
     "output_type": "display_data"
    }
   ],
   "source": [
    "fig1 = plt.figure\n",
    "plt.plot(data[data[2]==1][0], data[data[2]==1][1], 'b+', ls='None', color='black', label='Admitted')\n",
    "plt.plot(data[data[2]==0][0], data[data[2]==0][1], 'yo', ls='None', mec='black', label='Not admitted')\n",
    "plt.xlabel('Exam 1 score')\n",
    "plt.ylabel('Exam 2 score')\n",
    "plt.legend()"
   ]
  },
  {
   "cell_type": "code",
   "execution_count": 207,
   "metadata": {
    "collapsed": false
   },
   "outputs": [],
   "source": [
    "X=np.matrix([data[0],data[1]]).T\n",
    "Y=np.matrix(data[2]).T\n",
    "thetaInit = np.matrix([0.01,0.02]).T\n",
    "alpha, nIter = (0.01, 400)\n",
    "c = gradientDescentVis(X, Y, thetaInit, alpha, predLogitFn, logLoss, nIter)"
   ]
  },
  {
   "cell_type": "code",
   "execution_count": 208,
   "metadata": {
    "collapsed": false
   },
   "outputs": [
    {
     "data": {
      "text/plain": [
       "[<matplotlib.lines.Line2D at 0x11394d978>]"
      ]
     },
     "execution_count": 208,
     "metadata": {},
     "output_type": "execute_result"
    },
    {
     "data": {
      "image/png": "[encoded data removed]",
      "text/plain": [
       "<matplotlib.figure.Figure at 0x115202048>"
      ]
     },
     "metadata": {},
     "output_type": "display_data"
    }
   ],
   "source": [
    "plt.plot(c)"
   ]
  },
  {
   "cell_type": "code",
   "execution_count": null,
   "metadata": {
    "collapsed": true
   },
   "outputs": [],
   "source": [
    "op.fmin_bfgs"
   ]
  },
  {
   "cell_type": "code",
   "execution_count": 225,
   "metadata": {
    "collapsed": false
   },
   "outputs": [
    {
     "data": {
      "text/plain": [
       "matrix([[2, 2]])"
      ]
     },
     "execution_count": 225,
     "metadata": {},
     "output_type": "execute_result"
    }
   ],
   "source": [
    "A = np.matrix([[1,1],[1,1]])\n",
    "B = np.matrix([1,1])\n",
    "B * A"
   ]
  },
  {
   "cell_type": "code",
   "execution_count": null,
   "metadata": {
    "collapsed": true
   },
   "outputs": [],
   "source": []
  },
  {
   "cell_type": "code",
   "execution_count": null,
   "metadata": {
    "collapsed": true
   },
   "outputs": [],
   "source": []
  }
 ],
 "metadata": {
  "anaconda-cloud": {},
  "kernelspec": {
   "display_name": "Python [conda env:kaggle2017]",
   "language": "python",
   "name": "conda-env-kaggle2017-py"
  },
  "language_info": {
   "codemirror_mode": {
    "name": "ipython",
    "version": 3
   },
   "file_extension": ".py",
   "mimetype": "text/x-python",
   "name": "python",
   "nbconvert_exporter": "python",
   "pygments_lexer": "ipython3",
   "version": "3.5.2"
  }
 },
 "nbformat": 4,
 "nbformat_minor": 1
}
